{
 "cells": [
  {
   "cell_type": "code",
   "execution_count": 41,
   "metadata": {},
   "outputs": [],
   "source": [
    "import requests\n",
    "from selenium import webdriver\n",
    "from selenium.webdriver.common.by import By\n",
    "from selenium.webdriver.common.keys import Keys\n",
    "import urllib\n",
    "import time\n",
    "import os\n",
    "import shutil\n",
    "import json"
   ]
  },
  {
   "attachments": {},
   "cell_type": "markdown",
   "metadata": {},
   "source": [
    "Types of clouds:\n",
    "- Cirrus\n",
    "- Cirrostratus\n",
    "- Cirrocumulus\n",
    "- Altocumulus\n",
    "- Altostratus\n",
    "- Nimbostratus\n",
    "- Cumulus\n",
    "- Stratus\n",
    "- Cumulonimbus\n",
    "- Stratocumulus"
   ]
  },
  {
   "cell_type": "code",
   "execution_count": 42,
   "metadata": {},
   "outputs": [
    {
     "name": "stderr",
     "output_type": "stream",
     "text": [
      "The version of firefox cannot be detected. Trying with latest driver version\n"
     ]
    }
   ],
   "source": [
    "driver = webdriver.Firefox()\n",
    "driver.maximize_window()\n",
    "driver.get(\"https://images.google.com/\")"
   ]
  },
  {
   "cell_type": "code",
   "execution_count": 43,
   "metadata": {},
   "outputs": [],
   "source": [
    "path = f'E:/Repos/Cloud-Type-Identifier/Images/'\n",
    "if os.path.exists(path):\n",
    "    shutil.rmtree(path) # delete the folder if it exists\n",
    "os.mkdir(path) # create the folder"
   ]
  },
  {
   "cell_type": "code",
   "execution_count": 44,
   "metadata": {},
   "outputs": [],
   "source": [
    "def scroll_to_end():\n",
    "    last_height = driver.execute_script(\"return document.body.scrollHeight\")\n",
    "\n",
    "    while True:\n",
    "        driver.execute_script(\"window.scrollTo(0, document.body.scrollHeight);\")\n",
    "        time.sleep(2)\n",
    "        new_height = driver.execute_script(\"return document.body.scrollHeight\")\n",
    "\n",
    "        # click on \"Show more results\" button if it exists\n",
    "        try:\n",
    "            driver.find_element(By.XPATH, '//input[contains(@class,\"LZ4I\")]').click()\n",
    "            time.sleep(2)\n",
    "        except:\n",
    "            pass\n",
    "\n",
    "        if new_height == last_height:\n",
    "            break\n",
    "        \n",
    "        last_height = new_height"
   ]
  },
  {
   "cell_type": "code",
   "execution_count": 45,
   "metadata": {},
   "outputs": [
    {
     "name": "stdout",
     "output_type": "stream",
     "text": [
      "Searching for Cirrus images...\n",
      "Finished scrolling for Cirrus images, now downloading...\n",
      "Cirrus: 511\n",
      "\n",
      "Searching for Cirrostratus images...\n",
      "Finished scrolling for Cirrostratus images, now downloading...\n",
      "Cirrostratus: 614\n",
      "\n",
      "Searching for Cirrocumulus images...\n",
      "Finished scrolling for Cirrocumulus images, now downloading...\n",
      "Cirrocumulus: 540\n",
      "\n",
      "Searching for Altocumulus images...\n",
      "Finished scrolling for Altocumulus images, now downloading...\n",
      "Altocumulus: 588\n",
      "\n",
      "Searching for Altostratus images...\n",
      "Finished scrolling for Altostratus images, now downloading...\n",
      "Altostratus: 542\n",
      "\n",
      "Searching for Nimbostratus images...\n",
      "Finished scrolling for Nimbostratus images, now downloading...\n",
      "Nimbostratus: 572\n",
      "\n",
      "Searching for Cumulus images...\n",
      "Finished scrolling for Cumulus images, now downloading...\n",
      "Cumulus: 392\n",
      "\n",
      "Searching for Stratus images...\n",
      "Finished scrolling for Stratus images, now downloading...\n",
      "Stratus: 637\n",
      "\n",
      "Searching for Cumulonimbus images...\n",
      "Finished scrolling for Cumulonimbus images, now downloading...\n",
      "Cumulonimbus: 642\n",
      "\n",
      "Searching for Stratocumulus images...\n",
      "Finished scrolling for Stratocumulus images, now downloading...\n",
      "Stratocumulus: 590\n",
      "\n"
     ]
    }
   ],
   "source": [
    "cloud_types = ['Cirrus', 'Cirrostratus', 'Cirrocumulus', 'Altocumulus', 'Altostratus', 'Nimbostratus', 'Cumulus', 'Stratus', 'Cumulonimbus', 'Stratocumulus']\n",
    "with open(f'{path}types.json', 'w') as f:\n",
    "    json.dump(cloud_types, f)\n",
    "\n",
    "dataset_size = 10000\n",
    "n_images = dataset_size // len(cloud_types) # number of images to download per cloud type\n",
    "\n",
    "for cloud_type in cloud_types:\n",
    "    if os.path.exists(path+cloud_type):\n",
    "        shutil.rmtree(path+cloud_type) # delete the folder if it exists\n",
    "    os.mkdir(path+cloud_type) # create a folder for each cloud type\n",
    "\n",
    "    # scroll to top of page\n",
    "    driver.execute_script(\"window.scrollTo(0, 0);\")\n",
    "\n",
    "    # find the search bar and search for the cloud type \n",
    "    print(f'Searching for {cloud_type} images...')\n",
    "    search_bar = driver.find_element(By.XPATH, '//textarea[contains(@class,\"gLFyf\")]|//input[contains(@class,\"og3lId\")]') # find the search bar\n",
    "    search_bar.clear()\n",
    "    search_bar.send_keys(cloud_type + ' clouds')\n",
    "    search_bar.send_keys(Keys.ENTER)\n",
    "\n",
    "    # scroll to the bottom of the page to load all the images\n",
    "    scroll_to_end()\n",
    "    print(f'Finished scrolling for {cloud_type} images, now downloading...')\n",
    "\n",
    "    src = []\n",
    "    imgResults = driver.find_elements(By.XPATH, '//img[contains(@class,\"Q4LuWd\")]') # find all the images\n",
    "\n",
    "    for img in imgResults:\n",
    "        if img.get_attribute('src') is not None:\n",
    "            src.append(img.get_attribute('src')) # get the source of the images\n",
    "\n",
    "    src = list(set(src)) # remove duplicates\n",
    "\n",
    "    src = src[:n_images] # keep only the first n images\n",
    "\n",
    "    for i in range(len(src)): # download the images and save to the folder\n",
    "        filename = f'{cloud_type}/{i}.jpg'\n",
    "        urllib.request.urlretrieve(str(src[i]), path+filename)\n",
    "\n",
    "    # print the number of images downloaded for each cloud type\n",
    "    print(f'{cloud_type}: {len(src)}\\n')"
   ]
  }
 ],
 "metadata": {
  "kernelspec": {
   "display_name": "base",
   "language": "python",
   "name": "python3"
  },
  "language_info": {
   "codemirror_mode": {
    "name": "ipython",
    "version": 3
   },
   "file_extension": ".py",
   "mimetype": "text/x-python",
   "name": "python",
   "nbconvert_exporter": "python",
   "pygments_lexer": "ipython3",
   "version": "3.10.10"
  },
  "orig_nbformat": 4
 },
 "nbformat": 4,
 "nbformat_minor": 2
}
