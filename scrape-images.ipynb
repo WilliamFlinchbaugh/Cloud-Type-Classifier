{
 "cells": [
  {
   "cell_type": "code",
   "execution_count": 21,
   "metadata": {},
   "outputs": [],
   "source": [
    "import requests\n",
    "from selenium import webdriver\n",
    "from selenium.webdriver.common.by import By\n",
    "from selenium.webdriver.common.keys import Keys\n",
    "import urllib\n",
    "import time\n",
    "import os\n",
    "import shutil"
   ]
  },
  {
   "attachments": {},
   "cell_type": "markdown",
   "metadata": {},
   "source": [
    "Types of clouds:\n",
    "- Cirrus\n",
    "- Cirrostratus\n",
    "- Cirrocumulus\n",
    "- Altocumulus\n",
    "- Altostratus\n",
    "- Nimbostratus\n",
    "- Cumulus\n",
    "- Stratus\n",
    "- Cumulonimbus\n",
    "- Stratocumulus"
   ]
  },
  {
   "cell_type": "code",
   "execution_count": 17,
   "metadata": {},
   "outputs": [
    {
     "name": "stderr",
     "output_type": "stream",
     "text": [
      "The version of firefox cannot be detected. Trying with latest driver version\n"
     ]
    }
   ],
   "source": [
    "driver = webdriver.Firefox()\n",
    "url = (\"https://www.google.com/search?q={s}&tbm=isch&tbs=sur%3Afc&hl=en&ved=0CAIQpwVqFwoTCKCa1c6s4-oCFQAAAAAdAAAAABAC&biw=1251&bih=568\")"
   ]
  },
  {
   "cell_type": "code",
   "execution_count": 26,
   "metadata": {},
   "outputs": [],
   "source": [
    "cloud_types = ['Cirrus', 'Cirrostratus', 'Cirrocumulus', 'Altocumulus', 'Altostratus', 'Nimbostratus', 'Cumulus', 'Stratus', 'Cumulonimbus', 'Stratocumulus']\n",
    "\n",
    "path = f'E:/Repos/Cloud-Type-Identifier/Images/{cloud_type}/'\n",
    "if os.path.exists(path):\n",
    "    shutil.rmtree(path) # delete the folder if it exists\n",
    "os.mkdir(path) # create the folder\n",
    "\n",
    "n_images = 200\n",
    "\n",
    "for cloud_type in cloud_types:\n",
    "    driver.get(url.format(s=cloud_type+' clouds')) # load the page\n",
    "\n",
    "    src = []\n",
    "    while len(src) < n_images: # keep scrolling until we have enough images\n",
    "        driver.execute_script(\"window.scrollTo(0, document.body.scrollHeight);\")\n",
    "        time.sleep(5)\n",
    "        imgResults = driver.find_elements(By.XPATH, '//img[contains(@class,\"Q4LuWd\")]') # find all the images\n",
    "\n",
    "        for img in imgResults:\n",
    "            if img.get_attribute('src') is not None:\n",
    "                src.append(img.get_attribute('src')) # get the source of the images\n",
    "\n",
    "        src = list(set(src)) # remove duplicates\n",
    "\n",
    "    src = src[:n_images] # keep only the first n images\n",
    "\n",
    "    for i in range(len(src)): # download the images and save to the folder\n",
    "        urllib.request.urlretrieve(str(src[i]), path+str(i)+\".jpg\")"
   ]
  }
 ],
 "metadata": {
  "kernelspec": {
   "display_name": "base",
   "language": "python",
   "name": "python3"
  },
  "language_info": {
   "codemirror_mode": {
    "name": "ipython",
    "version": 3
   },
   "file_extension": ".py",
   "mimetype": "text/x-python",
   "name": "python",
   "nbconvert_exporter": "python",
   "pygments_lexer": "ipython3",
   "version": "3.10.10"
  },
  "orig_nbformat": 4
 },
 "nbformat": 4,
 "nbformat_minor": 2
}
